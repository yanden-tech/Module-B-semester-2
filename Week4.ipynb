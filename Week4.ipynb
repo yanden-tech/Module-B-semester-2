{
  "cells": [
    {
      "cell_type": "markdown",
      "metadata": {
        "id": "view-in-github",
        "colab_type": "text"
      },
      "source": [
        "<a href=\"https://colab.research.google.com/github/yanden-tech/Module-B-semester-2/blob/main/Week4.ipynb\" target=\"_parent\"><img src=\"https://colab.research.google.com/assets/colab-badge.svg\" alt=\"Open In Colab\"/></a>"
      ]
    },
    {
      "cell_type": "markdown",
      "id": "4441d563-75a4-4c32-b1e7-2c229477ca1c",
      "metadata": {
        "id": "4441d563-75a4-4c32-b1e7-2c229477ca1c"
      },
      "source": [
        "# Week 4 - Univariate Analysis, part 2"
      ]
    },
    {
      "cell_type": "markdown",
      "id": "98e23199-b611-403a-b843-2369d14d29bd",
      "metadata": {
        "id": "98e23199-b611-403a-b843-2369d14d29bd"
      },
      "source": [
        "# 1. Lesson - None"
      ]
    },
    {
      "cell_type": "markdown",
      "id": "35a7a0ae-f55f-455f-a951-478605b5e192",
      "metadata": {
        "id": "35a7a0ae-f55f-455f-a951-478605b5e192"
      },
      "source": [
        "# 2. Weekly graph question"
      ]
    },
    {
      "cell_type": "markdown",
      "id": "6807d39d-413e-4ce2-9281-3dd73eda198f",
      "metadata": {
        "id": "6807d39d-413e-4ce2-9281-3dd73eda198f"
      },
      "source": [
        "Below are a histogram and boxplot representation of the same data. A pharmacy is keeping a record of the prices of the drugs that it sells, and an administrator wants to know how much the more expensive drugs tend to cost, in the context of the other prices.\n",
        "\n",
        "Please write a short explanation of the pros and cons of these two representations. Which would you choose? How would you modify the formatting, if at all, to make it more visually interesting, clear, or informative?"
      ]
    },
    {
      "cell_type": "code",
      "execution_count": null,
      "id": "1888593e-817d-4148-954d-5d156593bd8d",
      "metadata": {
        "id": "1888593e-817d-4148-954d-5d156593bd8d"
      },
      "outputs": [],
      "source": [
        "import numpy as np\n",
        "import pandas as pd\n",
        "\n",
        "np.random.seed(0)\n",
        "num_data = 100\n",
        "data = np.exp(np.random.uniform(size = num_data) * 4)\n",
        "df = pd.DataFrame(data.T, columns = [\"data\"])"
      ]
    },
    {
      "cell_type": "code",
      "execution_count": null,
      "id": "13745ab1-8a9b-4568-bf56-3245fa36a358",
      "metadata": {
        "colab": {
          "base_uri": "https://localhost:8080/",
          "height": 500
        },
        "id": "13745ab1-8a9b-4568-bf56-3245fa36a358",
        "outputId": "f059732c-df3c-422a-8a64-7a27bc4ffc3d"
      },
      "outputs": [
        {
          "name": "stdout",
          "output_type": "stream",
          "text": [
            "The 75th percentile is: data    15.457656\n",
            "Name: 0.75, dtype: float64\n"
          ]
        },
        {
          "data": {
            "text/plain": [
              "<Axes: ylabel='Frequency'>"
            ]
          },
          "execution_count": 2,
          "metadata": {},
          "output_type": "execute_result"
        },
        {
          "data": {
            "image/png": "[encoded data removed]",
            "text/plain": [
              "<Figure size 640x480 with 1 Axes>"
            ]
          },
          "metadata": {},
          "output_type": "display_data"
        }
      ],
      "source": [
        "print(\"The 75th percentile is:\", df.quantile(q = 0.75))\n",
        "df.plot.hist()"
      ]
    },
    {
      "cell_type": "code",
      "execution_count": null,
      "id": "d4dbce72-bd33-43a2-b3e7-354a1cca6e39",
      "metadata": {
        "colab": {
          "base_uri": "https://localhost:8080/",
          "height": 466
        },
        "id": "d4dbce72-bd33-43a2-b3e7-354a1cca6e39",
        "outputId": "7572df2b-abc7-4e56-e6d3-d01ac92bb853"
      },
      "outputs": [
        {
          "data": {
            "text/plain": [
              "<Axes: >"
            ]
          },
          "execution_count": 3,
          "metadata": {},
          "output_type": "execute_result"
        },
        {
          "data": {
            "image/png": "[encoded data removed]",
            "text/plain": [
              "<Figure size 640x480 with 1 Axes>"
            ]
          },
          "metadata": {},
          "output_type": "display_data"
        }
      ],
      "source": [
        "df.plot.box()"
      ]
    },
    {
      "cell_type": "markdown",
      "id": "ab830464-2f92-4281-a2d3-474ffd26d1c7",
      "metadata": {
        "id": "ab830464-2f92-4281-a2d3-474ffd26d1c7"
      },
      "source": [
        "# 3. Homework - working on your datasets"
      ]
    },
    {
      "cell_type": "code",
      "execution_count": null,
      "id": "w9iZ1xdeOoHZ",
      "metadata": {
        "colab": {
          "base_uri": "https://localhost:8080/"
        },
        "id": "w9iZ1xdeOoHZ",
        "outputId": "a52a5271-e4d7-4961-b2ec-e2e9fd8f629c"
      },
      "outputs": [
        {
          "name": "stdout",
          "output_type": "stream",
          "text": [
            "Drive already mounted at /content/drive; to attempt to forcibly remount, call drive.mount(\"/content/drive\", force_remount=True).\n"
          ]
        }
      ],
      "source": [
        "from google.colab import drive\n",
        "drive.mount('/content/drive')\n"
      ]
    },
    {
      "cell_type": "code",
      "execution_count": null,
      "id": "qZYEOLlCdz8-",
      "metadata": {
        "colab": {
          "base_uri": "https://localhost:8080/"
        },
        "id": "qZYEOLlCdz8-",
        "outputId": "8b3eee83-6209-401e-8f5b-09538f3ba916"
      },
      "outputs": [
        {
          "name": "stdout",
          "output_type": "stream",
          "text": [
            "Games Data\n",
            "   app_id                              title date_release   win    mac  linux  \\\n",
            "0   13500  Prince of Persia: Warrior Within™   2008-11-21  True  False  False   \n",
            "1   22364            BRINK: Agents of Change   2011-08-03  True  False  False   \n",
            "2  113020       Monaco: What's Yours Is Mine   2013-04-24  True   True   True   \n",
            "3  226560                 Escape Dead Island   2014-11-18  True  False  False   \n",
            "4  249050            Dungeon of the ENDLESS™   2014-10-27  True   True  False   \n",
            "\n",
            "          rating  positive_ratio  user_reviews  price_final  price_original  \\\n",
            "0  Very Positive              84          2199         9.99            9.99   \n",
            "1       Positive              85            21         2.99            2.99   \n",
            "2  Very Positive              92          3722        14.99           14.99   \n",
            "3          Mixed              61           873        14.99           14.99   \n",
            "4  Very Positive              88          8784        11.99           11.99   \n",
            "\n",
            "   discount  steam_deck  \n",
            "0       0.0        True  \n",
            "1       0.0        True  \n",
            "2       0.0        True  \n",
            "3       0.0        True  \n",
            "4       0.0        True  \n",
            "\n",
            "Recommendations Data\n",
            "    app_id  helpful  funny        date  is_recommended  hours  user_id  \\\n",
            "0   975370        0      0  2022-12-12            True   36.3    51580   \n",
            "1   304390        4      0  2017-02-17           False   11.5     2586   \n",
            "2  1085660        2      0  2019-11-17            True  336.5   253880   \n",
            "3   703080        0      0  2022-09-23            True   27.4   259432   \n",
            "4   526870        0      0  2021-01-10            True    7.9    23869   \n",
            "\n",
            "   review_id  \n",
            "0          0  \n",
            "1          1  \n",
            "2          2  \n",
            "3          3  \n",
            "4          4  \n",
            "\n",
            "Users Data\n",
            "    user_id  products  reviews\n",
            "0   7360263       359        0\n",
            "1  14020781       156        1\n",
            "2   8762579       329        4\n",
            "3   4820647       176        4\n",
            "4   5167327        98        2\n"
          ]
        }
      ],
      "source": [
        "import pandas as pd\n",
        "\n",
        "# Load the datasets\n",
        "games = pd.read_csv('/content/drive/My Drive/Game Recommendations on Steam/games.csv')\n",
        "recommendations = pd.read_csv('/content/drive/My Drive/Game Recommendations on Steam/recommendations.csv')\n",
        "users = pd.read_csv('/content/drive/My Drive/Game Recommendations on Steam/users.csv')\n",
        "\n",
        "# Preview the datasets\n",
        "print(\"Games Data\")\n",
        "print(games.head())\n",
        "\n",
        "print(\"\\nRecommendations Data\")\n",
        "print(recommendations.head())\n",
        "\n",
        "print(\"\\nUsers Data\")\n",
        "print(users.head())\n"
      ]
    },
    {
      "cell_type": "code",
      "execution_count": null,
      "id": "G_paQKyUdv4T",
      "metadata": {
        "colab": {
          "base_uri": "https://localhost:8080/",
          "height": 448
        },
        "id": "G_paQKyUdv4T",
        "outputId": "28b13283-b400-416d-917d-6b93ce9b863a"
      },
      "outputs": [
        {
          "data": {
            "application/vnd.google.colaboratory.intrinsic+json": {
              "type": "dataframe",
              "variable_name": "df"
            },
            "text/html": [
              "\n",
              "  <div id=\"df-bc89bfb8-0cbc-4499-b11a-b07432665d44\" class=\"colab-df-container\">\n",
              "    <div>\n",
              "<style scoped>\n",
              "    .dataframe tbody tr th:only-of-type {\n",
              "        vertical-align: middle;\n",
              "    }\n",
              "\n",
              "    .dataframe tbody tr th {\n",
              "        vertical-align: top;\n",
              "    }\n",
              "\n",
              "    .dataframe thead th {\n",
              "        text-align: right;\n",
              "    }\n",
              "</style>\n",
              "<table border=\"1\" class=\"dataframe\">\n",
              "  <thead>\n",
              "    <tr style=\"text-align: right;\">\n",
              "      <th></th>\n",
              "      <th>id</th>\n",
              "      <th>asins</th>\n",
              "      <th>brand</th>\n",
              "      <th>categories</th>\n",
              "      <th>colors</th>\n",
              "      <th>dateAdded</th>\n",
              "      <th>dateUpdated</th>\n",
              "      <th>dimension</th>\n",
              "      <th>ean</th>\n",
              "      <th>keys</th>\n",
              "      <th>...</th>\n",
              "      <th>reviews.rating</th>\n",
              "      <th>reviews.sourceURLs</th>\n",
              "      <th>reviews.text</th>\n",
              "      <th>reviews.title</th>\n",
              "      <th>reviews.userCity</th>\n",
              "      <th>reviews.userProvince</th>\n",
              "      <th>reviews.username</th>\n",
              "      <th>sizes</th>\n",
              "      <th>upc</th>\n",
              "      <th>weight</th>\n",
              "    </tr>\n",
              "  </thead>\n",
              "  <tbody>\n",
              "    <tr>\n",
              "      <th>0</th>\n",
              "      <td>AVpe7AsMilAPnD_xQ78G</td>\n",
              "      <td>B00QJDU3KY</td>\n",
              "      <td>Amazon</td>\n",
              "      <td>Amazon Devices,mazon.co.uk</td>\n",
              "      <td>NaN</td>\n",
              "      <td>2016-03-08T20:21:53Z</td>\n",
              "      <td>2017-07-18T23:52:58Z</td>\n",
              "      <td>169 mm x 117 mm x 9.1 mm</td>\n",
              "      <td>NaN</td>\n",
              "      <td>kindlepaperwhite/b00qjdu3ky</td>\n",
              "      <td>...</td>\n",
              "      <td>5.0</td>\n",
              "      <td>https://www.amazon.com/Kindle-Paperwhite-High-...</td>\n",
              "      <td>I initially had trouble deciding between the p...</td>\n",
              "      <td>Paperwhite voyage, no regrets!</td>\n",
              "      <td>NaN</td>\n",
              "      <td>NaN</td>\n",
              "      <td>Cristina M</td>\n",
              "      <td>NaN</td>\n",
              "      <td>NaN</td>\n",
              "      <td>205 grams</td>\n",
              "    </tr>\n",
              "    <tr>\n",
              "      <th>1</th>\n",
              "      <td>AVpe7AsMilAPnD_xQ78G</td>\n",
              "      <td>B00QJDU3KY</td>\n",
              "      <td>Amazon</td>\n",
              "      <td>Amazon Devices,mazon.co.uk</td>\n",
              "      <td>NaN</td>\n",
              "      <td>2016-03-08T20:21:53Z</td>\n",
              "      <td>2017-07-18T23:52:58Z</td>\n",
              "      <td>169 mm x 117 mm x 9.1 mm</td>\n",
              "      <td>NaN</td>\n",
              "      <td>kindlepaperwhite/b00qjdu3ky</td>\n",
              "      <td>...</td>\n",
              "      <td>5.0</td>\n",
              "      <td>https://www.amazon.com/Kindle-Paperwhite-High-...</td>\n",
              "      <td>Allow me to preface this with a little history...</td>\n",
              "      <td>One Simply Could Not Ask For More</td>\n",
              "      <td>NaN</td>\n",
              "      <td>NaN</td>\n",
              "      <td>Ricky</td>\n",
              "      <td>NaN</td>\n",
              "      <td>NaN</td>\n",
              "      <td>205 grams</td>\n",
              "    </tr>\n",
              "    <tr>\n",
              "      <th>2</th>\n",
              "      <td>AVpe7AsMilAPnD_xQ78G</td>\n",
              "      <td>B00QJDU3KY</td>\n",
              "      <td>Amazon</td>\n",
              "      <td>Amazon Devices,mazon.co.uk</td>\n",
              "      <td>NaN</td>\n",
              "      <td>2016-03-08T20:21:53Z</td>\n",
              "      <td>2017-07-18T23:52:58Z</td>\n",
              "      <td>169 mm x 117 mm x 9.1 mm</td>\n",
              "      <td>NaN</td>\n",
              "      <td>kindlepaperwhite/b00qjdu3ky</td>\n",
              "      <td>...</td>\n",
              "      <td>4.0</td>\n",
              "      <td>https://www.amazon.com/Kindle-Paperwhite-High-...</td>\n",
              "      <td>I am enjoying it so far. Great for reading. Ha...</td>\n",
              "      <td>Great for those that just want an e-reader</td>\n",
              "      <td>NaN</td>\n",
              "      <td>NaN</td>\n",
              "      <td>Tedd Gardiner</td>\n",
              "      <td>NaN</td>\n",
              "      <td>NaN</td>\n",
              "      <td>205 grams</td>\n",
              "    </tr>\n",
              "    <tr>\n",
              "      <th>3</th>\n",
              "      <td>AVpe7AsMilAPnD_xQ78G</td>\n",
              "      <td>B00QJDU3KY</td>\n",
              "      <td>Amazon</td>\n",
              "      <td>Amazon Devices,mazon.co.uk</td>\n",
              "      <td>NaN</td>\n",
              "      <td>2016-03-08T20:21:53Z</td>\n",
              "      <td>2017-07-18T23:52:58Z</td>\n",
              "      <td>169 mm x 117 mm x 9.1 mm</td>\n",
              "      <td>NaN</td>\n",
              "      <td>kindlepaperwhite/b00qjdu3ky</td>\n",
              "      <td>...</td>\n",
              "      <td>5.0</td>\n",
              "      <td>https://www.amazon.com/Kindle-Paperwhite-High-...</td>\n",
              "      <td>I bought one of the first Paperwhites and have...</td>\n",
              "      <td>Love / Hate relationship</td>\n",
              "      <td>NaN</td>\n",
              "      <td>NaN</td>\n",
              "      <td>Dougal</td>\n",
              "      <td>NaN</td>\n",
              "      <td>NaN</td>\n",
              "      <td>205 grams</td>\n",
              "    </tr>\n",
              "    <tr>\n",
              "      <th>4</th>\n",
              "      <td>AVpe7AsMilAPnD_xQ78G</td>\n",
              "      <td>B00QJDU3KY</td>\n",
              "      <td>Amazon</td>\n",
              "      <td>Amazon Devices,mazon.co.uk</td>\n",
              "      <td>NaN</td>\n",
              "      <td>2016-03-08T20:21:53Z</td>\n",
              "      <td>2017-07-18T23:52:58Z</td>\n",
              "      <td>169 mm x 117 mm x 9.1 mm</td>\n",
              "      <td>NaN</td>\n",
              "      <td>kindlepaperwhite/b00qjdu3ky</td>\n",
              "      <td>...</td>\n",
              "      <td>5.0</td>\n",
              "      <td>https://www.amazon.com/Kindle-Paperwhite-High-...</td>\n",
              "      <td>I have to say upfront - I don't like coroporat...</td>\n",
              "      <td>I LOVE IT</td>\n",
              "      <td>NaN</td>\n",
              "      <td>NaN</td>\n",
              "      <td>Miljan David Tanic</td>\n",
              "      <td>NaN</td>\n",
              "      <td>NaN</td>\n",
              "      <td>205 grams</td>\n",
              "    </tr>\n",
              "  </tbody>\n",
              "</table>\n",
              "<p>5 rows × 27 columns</p>\n",
              "</div>\n",
              "    <div class=\"colab-df-buttons\">\n",
              "\n",
              "  <div class=\"colab-df-container\">\n",
              "    <button class=\"colab-df-convert\" onclick=\"convertToInteractive('df-bc89bfb8-0cbc-4499-b11a-b07432665d44')\"\n",
              "            title=\"Convert this dataframe to an interactive table.\"\n",
              "            style=\"display:none;\">\n",
              "\n",
              "  <svg xmlns=\"http://www.w3.org/2000/svg\" height=\"24px\" viewBox=\"0 -960 960 960\">\n",
              "    <path d=\"M120-120v-720h720v720H120Zm60-500h600v-160H180v160Zm220 220h160v-160H400v160Zm0 220h160v-160H400v160ZM180-400h160v-160H180v160Zm440 0h160v-160H620v160ZM180-180h160v-160H180v160Zm440 0h160v-160H620v160Z\"/>\n",
              "  </svg>\n",
              "    </button>\n",
              "\n",
              "  <style>\n",
              "    .colab-df-container {\n",
              "      display:flex;\n",
              "      gap: 12px;\n",
              "    }\n",
              "\n",
              "    .colab-df-convert {\n",
              "      background-color: #E8F0FE;\n",
              "      border: none;\n",
              "      border-radius: 50%;\n",
              "      cursor: pointer;\n",
              "      display: none;\n",
              "      fill: #1967D2;\n",
              "      height: 32px;\n",
              "      padding: 0 0 0 0;\n",
              "      width: 32px;\n",
              "    }\n",
              "\n",
              "    .colab-df-convert:hover {\n",
              "      background-color: #E2EBFA;\n",
              "      box-shadow: 0px 1px 2px rgba(60, 64, 67, 0.3), 0px 1px 3px 1px rgba(60, 64, 67, 0.15);\n",
              "      fill: #174EA6;\n",
              "    }\n",
              "\n",
              "    .colab-df-buttons div {\n",
              "      margin-bottom: 4px;\n",
              "    }\n",
              "\n",
              "    [theme=dark] .colab-df-convert {\n",
              "      background-color: #3B4455;\n",
              "      fill: #D2E3FC;\n",
              "    }\n",
              "\n",
              "    [theme=dark] .colab-df-convert:hover {\n",
              "      background-color: #434B5C;\n",
              "      box-shadow: 0px 1px 3px 1px rgba(0, 0, 0, 0.15);\n",
              "      filter: drop-shadow(0px 1px 2px rgba(0, 0, 0, 0.3));\n",
              "      fill: #FFFFFF;\n",
              "    }\n",
              "  </style>\n",
              "\n",
              "    <script>\n",
              "      const buttonEl =\n",
              "        document.querySelector('#df-bc89bfb8-0cbc-4499-b11a-b07432665d44 button.colab-df-convert');\n",
              "      buttonEl.style.display =\n",
              "        google.colab.kernel.accessAllowed ? 'block' : 'none';\n",
              "\n",
              "      async function convertToInteractive(key) {\n",
              "        const element = document.querySelector('#df-bc89bfb8-0cbc-4499-b11a-b07432665d44');\n",
              "        const dataTable =\n",
              "          await google.colab.kernel.invokeFunction('convertToInteractive',\n",
              "                                                    [key], {});\n",
              "        if (!dataTable) return;\n",
              "\n",
              "        const docLinkHtml = 'Like what you see? Visit the ' +\n",
              "          '<a target=\"_blank\" href=https://colab.research.google.com/notebooks/data_table.ipynb>data table notebook</a>'\n",
              "          + ' to learn more about interactive tables.';\n",
              "        element.innerHTML = '';\n",
              "        dataTable['output_type'] = 'display_data';\n",
              "        await google.colab.output.renderOutput(dataTable, element);\n",
              "        const docLink = document.createElement('div');\n",
              "        docLink.innerHTML = docLinkHtml;\n",
              "        element.appendChild(docLink);\n",
              "      }\n",
              "    </script>\n",
              "  </div>\n",
              "\n",
              "\n",
              "    <div id=\"df-4221fdab-a6ac-4fcf-9159-770ec2837830\">\n",
              "      <button class=\"colab-df-quickchart\" onclick=\"quickchart('df-4221fdab-a6ac-4fcf-9159-770ec2837830')\"\n",
              "                title=\"Suggest charts\"\n",
              "                style=\"display:none;\">\n",
              "\n",
              "<svg xmlns=\"http://www.w3.org/2000/svg\" height=\"24px\"viewBox=\"0 0 24 24\"\n",
              "     width=\"24px\">\n",
              "    <g>\n",
              "        <path d=\"M19 3H5c-1.1 0-2 .9-2 2v14c0 1.1.9 2 2 2h14c1.1 0 2-.9 2-2V5c0-1.1-.9-2-2-2zM9 17H7v-7h2v7zm4 0h-2V7h2v10zm4 0h-2v-4h2v4z\"/>\n",
              "    </g>\n",
              "</svg>\n",
              "      </button>\n",
              "\n",
              "<style>\n",
              "  .colab-df-quickchart {\n",
              "      --bg-color: #E8F0FE;\n",
              "      --fill-color: #1967D2;\n",
              "      --hover-bg-color: #E2EBFA;\n",
              "      --hover-fill-color: #174EA6;\n",
              "      --disabled-fill-color: #AAA;\n",
              "      --disabled-bg-color: #DDD;\n",
              "  }\n",
              "\n",
              "  [theme=dark] .colab-df-quickchart {\n",
              "      --bg-color: #3B4455;\n",
              "      --fill-color: #D2E3FC;\n",
              "      --hover-bg-color: #434B5C;\n",
              "      --hover-fill-color: #FFFFFF;\n",
              "      --disabled-bg-color: #3B4455;\n",
              "      --disabled-fill-color: #666;\n",
              "  }\n",
              "\n",
              "  .colab-df-quickchart {\n",
              "    background-color: var(--bg-color);\n",
              "    border: none;\n",
              "    border-radius: 50%;\n",
              "    cursor: pointer;\n",
              "    display: none;\n",
              "    fill: var(--fill-color);\n",
              "    height: 32px;\n",
              "    padding: 0;\n",
              "    width: 32px;\n",
              "  }\n",
              "\n",
              "  .colab-df-quickchart:hover {\n",
              "    background-color: var(--hover-bg-color);\n",
              "    box-shadow: 0 1px 2px rgba(60, 64, 67, 0.3), 0 1px 3px 1px rgba(60, 64, 67, 0.15);\n",
              "    fill: var(--button-hover-fill-color);\n",
              "  }\n",
              "\n",
              "  .colab-df-quickchart-complete:disabled,\n",
              "  .colab-df-quickchart-complete:disabled:hover {\n",
              "    background-color: var(--disabled-bg-color);\n",
              "    fill: var(--disabled-fill-color);\n",
              "    box-shadow: none;\n",
              "  }\n",
              "\n",
              "  .colab-df-spinner {\n",
              "    border: 2px solid var(--fill-color);\n",
              "    border-color: transparent;\n",
              "    border-bottom-color: var(--fill-color);\n",
              "    animation:\n",
              "      spin 1s steps(1) infinite;\n",
              "  }\n",
              "\n",
              "  @keyframes spin {\n",
              "    0% {\n",
              "      border-color: transparent;\n",
              "      border-bottom-color: var(--fill-color);\n",
              "      border-left-color: var(--fill-color);\n",
              "    }\n",
              "    20% {\n",
              "      border-color: transparent;\n",
              "      border-left-color: var(--fill-color);\n",
              "      border-top-color: var(--fill-color);\n",
              "    }\n",
              "    30% {\n",
              "      border-color: transparent;\n",
              "      border-left-color: var(--fill-color);\n",
              "      border-top-color: var(--fill-color);\n",
              "      border-right-color: var(--fill-color);\n",
              "    }\n",
              "    40% {\n",
              "      border-color: transparent;\n",
              "      border-right-color: var(--fill-color);\n",
              "      border-top-color: var(--fill-color);\n",
              "    }\n",
              "    60% {\n",
              "      border-color: transparent;\n",
              "      border-right-color: var(--fill-color);\n",
              "    }\n",
              "    80% {\n",
              "      border-color: transparent;\n",
              "      border-right-color: var(--fill-color);\n",
              "      border-bottom-color: var(--fill-color);\n",
              "    }\n",
              "    90% {\n",
              "      border-color: transparent;\n",
              "      border-bottom-color: var(--fill-color);\n",
              "    }\n",
              "  }\n",
              "</style>\n",
              "\n",
              "      <script>\n",
              "        async function quickchart(key) {\n",
              "          const quickchartButtonEl =\n",
              "            document.querySelector('#' + key + ' button');\n",
              "          quickchartButtonEl.disabled = true;  // To prevent multiple clicks.\n",
              "          quickchartButtonEl.classList.add('colab-df-spinner');\n",
              "          try {\n",
              "            const charts = await google.colab.kernel.invokeFunction(\n",
              "                'suggestCharts', [key], {});\n",
              "          } catch (error) {\n",
              "            console.error('Error during call to suggestCharts:', error);\n",
              "          }\n",
              "          quickchartButtonEl.classList.remove('colab-df-spinner');\n",
              "          quickchartButtonEl.classList.add('colab-df-quickchart-complete');\n",
              "        }\n",
              "        (() => {\n",
              "          let quickchartButtonEl =\n",
              "            document.querySelector('#df-4221fdab-a6ac-4fcf-9159-770ec2837830 button');\n",
              "          quickchartButtonEl.style.display =\n",
              "            google.colab.kernel.accessAllowed ? 'block' : 'none';\n",
              "        })();\n",
              "      </script>\n",
              "    </div>\n",
              "\n",
              "    </div>\n",
              "  </div>\n"
            ],
            "text/plain": [
              "                     id       asins   brand                  categories  \\\n",
              "0  AVpe7AsMilAPnD_xQ78G  B00QJDU3KY  Amazon  Amazon Devices,mazon.co.uk   \n",
              "1  AVpe7AsMilAPnD_xQ78G  B00QJDU3KY  Amazon  Amazon Devices,mazon.co.uk   \n",
              "2  AVpe7AsMilAPnD_xQ78G  B00QJDU3KY  Amazon  Amazon Devices,mazon.co.uk   \n",
              "3  AVpe7AsMilAPnD_xQ78G  B00QJDU3KY  Amazon  Amazon Devices,mazon.co.uk   \n",
              "4  AVpe7AsMilAPnD_xQ78G  B00QJDU3KY  Amazon  Amazon Devices,mazon.co.uk   \n",
              "\n",
              "  colors             dateAdded           dateUpdated  \\\n",
              "0    NaN  2016-03-08T20:21:53Z  2017-07-18T23:52:58Z   \n",
              "1    NaN  2016-03-08T20:21:53Z  2017-07-18T23:52:58Z   \n",
              "2    NaN  2016-03-08T20:21:53Z  2017-07-18T23:52:58Z   \n",
              "3    NaN  2016-03-08T20:21:53Z  2017-07-18T23:52:58Z   \n",
              "4    NaN  2016-03-08T20:21:53Z  2017-07-18T23:52:58Z   \n",
              "\n",
              "                  dimension  ean                         keys  ...  \\\n",
              "0  169 mm x 117 mm x 9.1 mm  NaN  kindlepaperwhite/b00qjdu3ky  ...   \n",
              "1  169 mm x 117 mm x 9.1 mm  NaN  kindlepaperwhite/b00qjdu3ky  ...   \n",
              "2  169 mm x 117 mm x 9.1 mm  NaN  kindlepaperwhite/b00qjdu3ky  ...   \n",
              "3  169 mm x 117 mm x 9.1 mm  NaN  kindlepaperwhite/b00qjdu3ky  ...   \n",
              "4  169 mm x 117 mm x 9.1 mm  NaN  kindlepaperwhite/b00qjdu3ky  ...   \n",
              "\n",
              "  reviews.rating                                 reviews.sourceURLs  \\\n",
              "0            5.0  https://www.amazon.com/Kindle-Paperwhite-High-...   \n",
              "1            5.0  https://www.amazon.com/Kindle-Paperwhite-High-...   \n",
              "2            4.0  https://www.amazon.com/Kindle-Paperwhite-High-...   \n",
              "3            5.0  https://www.amazon.com/Kindle-Paperwhite-High-...   \n",
              "4            5.0  https://www.amazon.com/Kindle-Paperwhite-High-...   \n",
              "\n",
              "                                        reviews.text  \\\n",
              "0  I initially had trouble deciding between the p...   \n",
              "1  Allow me to preface this with a little history...   \n",
              "2  I am enjoying it so far. Great for reading. Ha...   \n",
              "3  I bought one of the first Paperwhites and have...   \n",
              "4  I have to say upfront - I don't like coroporat...   \n",
              "\n",
              "                                reviews.title reviews.userCity  \\\n",
              "0              Paperwhite voyage, no regrets!              NaN   \n",
              "1           One Simply Could Not Ask For More              NaN   \n",
              "2  Great for those that just want an e-reader              NaN   \n",
              "3                    Love / Hate relationship              NaN   \n",
              "4                                   I LOVE IT              NaN   \n",
              "\n",
              "  reviews.userProvince    reviews.username  sizes upc     weight  \n",
              "0                  NaN          Cristina M    NaN NaN  205 grams  \n",
              "1                  NaN               Ricky    NaN NaN  205 grams  \n",
              "2                  NaN       Tedd Gardiner    NaN NaN  205 grams  \n",
              "3                  NaN              Dougal    NaN NaN  205 grams  \n",
              "4                  NaN  Miljan David Tanic    NaN NaN  205 grams  \n",
              "\n",
              "[5 rows x 27 columns]"
            ]
          },
          "execution_count": 6,
          "metadata": {},
          "output_type": "execute_result"
        }
      ],
      "source": [
        "import pandas as pd\n",
        "\n",
        "# Path to the file\n",
        "file_path = '/content/drive/My Drive/Amazon Product Reviews.csv'\n",
        "\n",
        "# Read the CSV into a dataframe\n",
        "df = pd.read_csv(file_path)\n",
        "\n",
        "# Preview the data\n",
        "df.head()\n"
      ]
    },
    {
      "cell_type": "code",
      "execution_count": null,
      "id": "-NwVyl8Sh6TP",
      "metadata": {
        "colab": {
          "base_uri": "https://localhost:8080/"
        },
        "id": "-NwVyl8Sh6TP",
        "outputId": "f658a596-e733-4804-a2a0-faa3eb50149a"
      },
      "outputs": [
        {
          "name": "stdout",
          "output_type": "stream",
          "text": [
            "\n",
            "Short Dataset Preview:\n",
            "   Rank                           Name     Genre ESRB_Rating Platform  \\\n",
            "0     1                     Wii Sports    Sports           E      Wii   \n",
            "1     2              Super Mario Bros.  Platform         NaN      NES   \n",
            "2     3                 Mario Kart Wii    Racing           E      Wii   \n",
            "3     4  PlayerUnknown's Battlegrounds   Shooter         NaN       PC   \n",
            "4     5              Wii Sports Resort    Sports           E      Wii   \n",
            "\n",
            "          Publisher         Developer  Critic_Score  User_Score  \\\n",
            "0          Nintendo      Nintendo EAD           7.7         NaN   \n",
            "1          Nintendo      Nintendo EAD          10.0         NaN   \n",
            "2          Nintendo      Nintendo EAD           8.2         9.1   \n",
            "3  PUBG Corporation  PUBG Corporation           NaN         NaN   \n",
            "4          Nintendo      Nintendo EAD           8.0         8.8   \n",
            "\n",
            "   Total_Shipped  Global_Sales  NA_Sales  PAL_Sales  JP_Sales  Other_Sales  \\\n",
            "0          82.86           NaN       NaN        NaN       NaN          NaN   \n",
            "1          40.24           NaN       NaN        NaN       NaN          NaN   \n",
            "2          37.14           NaN       NaN        NaN       NaN          NaN   \n",
            "3          36.60           NaN       NaN        NaN       NaN          NaN   \n",
            "4          33.09           NaN       NaN        NaN       NaN          NaN   \n",
            "\n",
            "     Year  \n",
            "0  2006.0  \n",
            "1  1985.0  \n",
            "2  2008.0  \n",
            "3  2017.0  \n",
            "4  2009.0  \n"
          ]
        }
      ],
      "source": [
        "import pandas as pd\n",
        "\n",
        "# Path to the file\n",
        "file_path_short = '/content/drive/My Drive/Video Game Sales 2019/vgsales-12-4-2019-short.csv'\n",
        "\n",
        "#Read the CSV into a dataframe\n",
        "df_vgsales_short = pd.read_csv(file_path_short)\n",
        "\n",
        "# Quick preview\n",
        "\n",
        "print(\"\\nShort Dataset Preview:\")\n",
        "print(df_vgsales_short.head())\n"
      ]
    },
    {
      "cell_type": "markdown",
      "id": "MO68WL9Qcvjh",
      "metadata": {
        "id": "MO68WL9Qcvjh"
      },
      "source": [
        "# Histograms"
      ]
    },
    {
      "cell_type": "code",
      "execution_count": null,
      "id": "OL04ngtB0fCv",
      "metadata": {
        "colab": {
          "background_save": true
        },
        "id": "OL04ngtB0fCv"
      },
      "outputs": [],
      "source": [
        "for column in games.select_dtypes(include=['float64', 'int64']).columns:\n",
        "    plt.figure(figsize=(8, 5))\n",
        "    sns.kdeplot(games[column].dropna(), fill=True, color='green')\n",
        "    plt.title(f'KDE Plot of {column}')\n",
        "    plt.xlabel(column)\n",
        "    plt.ylabel('Density')\n",
        "    plt.show()\n"
      ]
    },
    {
      "cell_type": "markdown",
      "id": "e892ba10-7f81-4330-9863-73f65fbdc4bd",
      "metadata": {
        "id": "e892ba10-7f81-4330-9863-73f65fbdc4bd"
      },
      "source": [
        "This week, you will do the same types of exercises as last week, but you should use your chosen datasets that someone in your class found last semester. (They likely will not be the particular datasets that you found yourself.)\n",
        "\n",
        "### Here are some types of analysis you can do:\n",
        "\n",
        "- Draw histograms and histogram variants for each feature or column.  (Swarm plot, kde plot, violin plot).\n",
        "\n",
        "- Draw grouped histograms.  For instance, if you have tree heights for both maple and oak trees, you could draw histograms for both.\n",
        "\n",
        "- Draw a bar plot to indicate total counts of each categorical variable in a given column.\n",
        "\n",
        "- Find means, medians, and modes.\n",
        "\n",
        "### Conclusions:\n",
        "\n",
        "- Explain what conclusions you would draw from this analysis: are the data what you expect?  Are the data likely to be usable?  If they are not useable, find some new data!\n",
        "\n",
        "- What is the overall shape of the distribution?  Is it normal, skewed, bimodal, uniform, etc.?\n",
        "\n",
        "- Are there any outliers present?  (Data points that are far from the others.)\n",
        "\n",
        "- If there are multiple related histograms, how does the distribution change across different groups?\n",
        "\n",
        "- What are the minimum and maximum values represented in each histogram?\n",
        "\n",
        "- How do bin sizes affect the histogram?  Does changing the bin width reveal different patterns in the data?\n",
        "\n",
        "- Does the distribution appear normal, or does it have a different distribution?"
      ]
    },
    {
      "cell_type": "markdown",
      "id": "a3f1934f-7ef3-4cbb-84bd-b27d93ba95d2",
      "metadata": {
        "id": "a3f1934f-7ef3-4cbb-84bd-b27d93ba95d2"
      },
      "source": [
        "# 4. Storytelling With Data graph"
      ]
    },
    {
      "cell_type": "markdown",
      "id": "91ba396b-fc00-48ec-acc6-e026348536f6",
      "metadata": {
        "id": "91ba396b-fc00-48ec-acc6-e026348536f6"
      },
      "source": [
        "Reproduce any graph of your choice in p. 52-68 of the Storytelling With Data book as best you can.  (The second half of chapter two).  You do not have to get the exact data values right, just the overall look and feel."
      ]
    },
    {
      "cell_type": "code",
      "execution_count": null,
      "id": "5a7e4b4b-977a-4b0e-bec2-1f34a514da44",
      "metadata": {
        "colab": {
          "background_save": true
        },
        "id": "5a7e4b4b-977a-4b0e-bec2-1f34a514da44"
      },
      "outputs": [],
      "source": []
    }
  ],
  "metadata": {
    "colab": {
      "provenance": [],
      "include_colab_link": true
    },
    "kernelspec": {
      "display_name": "Python 3 (ipykernel)",
      "language": "python",
      "name": "python3"
    },
    "language_info": {
      "codemirror_mode": {
        "name": "ipython",
        "version": 3
      },
      "file_extension": ".py",
      "mimetype": "text/x-python",
      "name": "python",
      "nbconvert_exporter": "python",
      "pygments_lexer": "ipython3",
      "version": "3.12.0"
    }
  },
  "nbformat": 4,
  "nbformat_minor": 5
}